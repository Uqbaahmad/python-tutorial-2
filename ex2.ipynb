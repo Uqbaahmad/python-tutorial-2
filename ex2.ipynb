{
 "cells": [
  {
   "cell_type": "code",
   "execution_count": 1,
   "metadata": {},
   "outputs": [
    {
     "name": "stdout",
     "output_type": "stream",
     "text": [
      "I could have code like this\n"
     ]
    }
   ],
   "source": [
    "# Comment \n",
    "print(\"I could have code like this\")                # we use comment for our knowledge"
   ]
  },
  {
   "cell_type": "code",
   "execution_count": 2,
   "metadata": {},
   "outputs": [
    {
     "name": "stdout",
     "output_type": "stream",
     "text": [
      "This will run\n"
     ]
    }
   ],
   "source": [
    "# print('This won't run')\n",
    "print(\"This will run\")"
   ]
  },
  {
   "cell_type": "code",
   "execution_count": 6,
   "metadata": {},
   "outputs": [
    {
     "name": "stdout",
     "output_type": "stream",
     "text": [
      "I will count my chickens\n"
     ]
    }
   ],
   "source": [
    "print(\"I will count my chickens\")\n"
   ]
  },
  {
   "cell_type": "code",
   "execution_count": 7,
   "metadata": {},
   "outputs": [
    {
     "name": "stdout",
     "output_type": "stream",
     "text": [
      "Hens 30.0\n",
      "Roosters 97\n"
     ]
    }
   ],
   "source": [
    "print(\"Hens\" ,25 + 30 /6)\n",
    "print(\"Roosters\", 100 - 25 * 3 % 4)"
   ]
  },
  {
   "cell_type": "code",
   "execution_count": 5,
   "metadata": {},
   "outputs": [
    {
     "name": "stdout",
     "output_type": "stream",
     "text": [
      "Now I will count the eggs: \n",
      "6.75\n"
     ]
    }
   ],
   "source": [
    "print(\"Now I will count the eggs: \")\n",
    "print( 3 +2 + 1 - 5 + 4 % 2 - 1 / 4 + 6)"
   ]
  },
  {
   "cell_type": "code",
   "execution_count": 8,
   "metadata": {},
   "outputs": [
    {
     "name": "stdout",
     "output_type": "stream",
     "text": [
      "Is it true that  3 + 2 < 5 - 7? \n"
     ]
    }
   ],
   "source": [
    "print(\"Is it true that  3 + 2 < 5 - 7? \")\n",
    "print(3 + 2 < 5 - 7)\n"
   ]
  },
  {
   "cell_type": "code",
   "execution_count": 13,
   "metadata": {},
   "outputs": [
    {
     "name": "stdout",
     "output_type": "stream",
     "text": [
      "What is 3 + 2?   5\n",
      " What is 5 - 7?  -2\n"
     ]
    }
   ],
   "source": [
    "print(\"What is 3 + 2?  \" , 3 +2)\n",
    "print(\" What is 5 - 7? \", 5 - 7)"
   ]
  },
  {
   "cell_type": "code",
   "execution_count": 11,
   "metadata": {},
   "outputs": [
    {
     "name": "stdout",
     "output_type": "stream",
     "text": [
      "Oh, that's why it's False.\n"
     ]
    }
   ],
   "source": [
    "print(\"Oh, that's why it's False.\")"
   ]
  },
  {
   "cell_type": "code",
   "execution_count": 16,
   "metadata": {},
   "outputs": [
    {
     "name": "stdout",
     "output_type": "stream",
     "text": [
      "How about some more?\n"
     ]
    }
   ],
   "source": [
    "print(\"How about some more?\")"
   ]
  },
  {
   "cell_type": "code",
   "execution_count": 15,
   "metadata": {},
   "outputs": [
    {
     "name": "stdout",
     "output_type": "stream",
     "text": [
      "Is it greater? True\n",
      "Is it greater or equal ? True\n",
      "Is it less or equal ? False\n"
     ]
    }
   ],
   "source": [
    "print(\"Is it greater?\", 5 > -2)\n",
    "print(\"Is it greater or equal ?\", 5 >= -2)\n",
    "print(\"Is it less or equal ?\", 5 <= -2)\n"
   ]
  },
  {
   "cell_type": "code",
   "execution_count": null,
   "metadata": {},
   "outputs": [],
   "source": []
  }
 ],
 "metadata": {
  "interpreter": {
   "hash": "5ae58900cfbb8c43ab3495913814b7cf26024f51651a94ce8bf64d6111688e8d"
  },
  "kernelspec": {
   "display_name": "Python 3.9.7 ('base')",
   "language": "python",
   "name": "python3"
  },
  "language_info": {
   "codemirror_mode": {
    "name": "ipython",
    "version": 3
   },
   "file_extension": ".py",
   "mimetype": "text/x-python",
   "name": "python",
   "nbconvert_exporter": "python",
   "pygments_lexer": "ipython3",
   "version": "3.9.7"
  },
  "orig_nbformat": 4
 },
 "nbformat": 4,
 "nbformat_minor": 2
}

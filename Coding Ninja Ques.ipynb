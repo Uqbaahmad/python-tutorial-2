{
 "cells": [
  {
   "cell_type": "code",
   "execution_count": 1,
   "id": "e2f30577",
   "metadata": {},
   "outputs": [
    {
     "name": "stdout",
     "output_type": "stream",
     "text": [
      "5\n",
      "6\n",
      "7\n",
      "6.0\n"
     ]
    }
   ],
   "source": [
    "#Find the average marks\n",
    "a = int(input())\n",
    "b = int(input())\n",
    "c = int(input())\n",
    "\n",
    "avg = (a + b + c)/3\n",
    "print(avg)"
   ]
  },
  {
   "cell_type": "code",
   "execution_count": 2,
   "id": "e56c3035",
   "metadata": {},
   "outputs": [
    {
     "name": "stdout",
     "output_type": "stream",
     "text": [
      "12\n",
      "2\n",
      "144\n"
     ]
    }
   ],
   "source": [
    "# Find x raised to power N\n",
    "\n",
    "X = int(input())\n",
    "N = int(input())\n",
    "Power = (X**N)\n",
    "print(Power)"
   ]
  },
  {
   "cell_type": "code",
   "execution_count": 3,
   "id": "40b1c7d8",
   "metadata": {},
   "outputs": [
    {
     "name": "stdout",
     "output_type": "stream",
     "text": [
      "45\n",
      "5\n",
      "9\n",
      "40\n",
      "31\n"
     ]
    }
   ],
   "source": [
    "# Arithmetic progression\n",
    "a = int(input())\n",
    "b = int(input())\n",
    "c = int(input())\n",
    "\n",
    "common_difference = a - b\n",
    "d = common_difference - c\n",
    "print(common_difference)\n",
    "print(d)"
   ]
  },
  {
   "cell_type": "code",
   "execution_count": 4,
   "id": "07c86499",
   "metadata": {},
   "outputs": [
    {
     "name": "stdout",
     "output_type": "stream",
     "text": [
      "34\n",
      "45\n",
      "23\n",
      "56\n",
      "-11\n",
      "-33\n",
      "22\n"
     ]
    }
   ],
   "source": [
    "#Rectangular Area x1, y1, x2, y2 and (x2 < x1) and (y2 < y1)\n",
    "x1 = int(input())\n",
    "x2 = int(input())\n",
    "y1 = int(input())\n",
    "y2 = int(input())\n",
    "\n",
    "R1 = x1 - x2\n",
    "R2 = y1 - y2\n",
    "print(R1)\n",
    "print(R2)\n",
    "\n",
    "A = (R1 - R2)\n",
    "print(A)\n"
   ]
  },
  {
   "cell_type": "code",
   "execution_count": 5,
   "id": "285468b2",
   "metadata": {},
   "outputs": [
    {
     "name": "stdout",
     "output_type": "stream",
     "text": [
      "6\n",
      "positive\n"
     ]
    }
   ],
   "source": [
    "#Check number\n",
    "\"\"\"\n",
    "Given an integer n, find if n is positive, negative or 0.\n",
    "If n is positive, print \"Positive\"\n",
    "If n is negative, print \"Negative\"\n",
    "And if n is equal to 0, print \"Zero\".\n",
    "\"\"\"\n",
    "\n",
    "n = int(input())\n",
    "\n",
    "if n >= 1:\n",
    "    print(\"positive\")\n",
    "    \n",
    "elif n <= -1:\n",
    "    print(\"Negative\")\n",
    "\n",
    "else:\n",
    "    print(\"Zero\")\n",
    "    "
   ]
  },
  {
   "cell_type": "code",
   "execution_count": 6,
   "id": "c15fc539",
   "metadata": {},
   "outputs": [
    {
     "name": "stdout",
     "output_type": "stream",
     "text": [
      "5\n",
      "15\n"
     ]
    }
   ],
   "source": [
    "#Sum of n numbers\n",
    "\"\"\"\n",
    "Given an integer n, find and print the sum of numbers from 1 to n.\n",
    "Note : Use while loop only.\n",
    "\"\"\"\n",
    "#Input Format : Integer n\n",
    "#Output Format : Sum\n",
    "   \n",
    "n = int(input()) \n",
    "\n",
    "i = 1\n",
    "sum = 0 \n",
    "\n",
    "while i<= n:\n",
    "    sum = sum + i\n",
    "    i += 1\n",
    "print(sum)    "
   ]
  },
  {
   "cell_type": "code",
   "execution_count": 7,
   "id": "b8e7f28f",
   "metadata": {},
   "outputs": [
    {
     "name": "stdout",
     "output_type": "stream",
     "text": [
      "45\n",
      "506\n"
     ]
    }
   ],
   "source": [
    "#Sum of Even Numbers\n",
    "\"\"\"\n",
    "Given a number N, print sum of all even numbers from 1 to N.\n",
    "\"\"\"\n",
    "#Input Format : Integer N\n",
    "#Output Format : Required Sum       for even number we put i = 2 and for odd number we put i = 1 0r 3\n",
    "N = int(input())\n",
    " \n",
    "i = 2\n",
    "s = 0\n",
    "while i <= N:\n",
    "    s += i\n",
    "    i += 2\n",
    "print(s)    \n",
    "    "
   ]
  },
  {
   "cell_type": "code",
   "execution_count": 8,
   "id": "907523e7",
   "metadata": {},
   "outputs": [
    {
     "name": "stdout",
     "output_type": "stream",
     "text": [
      "67\n",
      "78\n",
      "8\n",
      "67\t19\n",
      "75\t23\n"
     ]
    }
   ],
   "source": [
    "9#Fahrenheit to Celsius\n",
    "\"\"\"\n",
    "Given three values - Start Fahrenheit Value (S), End Fahrenheit value (E) and Step Size (W),\n",
    "you need to convert all Fahrenheit values from Start to End at the gap of W,\n",
    "into their corresponding Celsius values and print the table.\n",
    "\"\"\"\n",
    "\n",
    "S = int(input())\n",
    "E = int(input())\n",
    "W = int(input())\n",
    "i = S\n",
    "while i <= E:\n",
    "    p = int((i - 32)* 5/9)\n",
    "    print(str(i) +\"\\t\" + str(p))\n",
    "    i += W\n"
   ]
  },
  {
   "cell_type": "code",
   "execution_count": 9,
   "id": "2045c36c",
   "metadata": {},
   "outputs": [
    {
     "name": "stdout",
     "output_type": "stream",
     "text": [
      "45\n",
      "Invalid Syntax\n",
      "3\n",
      "45\n",
      "3\n",
      "135\n"
     ]
    }
   ],
   "source": [
    "#Calculator\n",
    "\"\"\"\n",
    "1. If the input is 1, 2 integers are taken from the user and their sum is printed.\n",
    "2. If the input is 2, 2 integers are taken from the user and their difference(1st number - 2nd number) is printed.\n",
    "3. If the input is 3, 2 integers are taken from the user and their product is printed.\n",
    "4. If the input is 4, 2 integers are taken from the user and the quotient obtained (on dividing 1st number by 2nd number) is printed.\n",
    "5. If the input is 5, 2 integers are taken from the user and their remainder(1st number mod 2nd number) is printed.\n",
    "6. If the input is 6, the program exits.\n",
    "7. For any other input, print \"Invalid Operation\".\n",
    "\"\"\"\n",
    "\n",
    "\n",
    "while True:\n",
    "    num = int(input())\n",
    "    if num == 1:\n",
    "        a = int(input())\n",
    "        b = int(input())\n",
    "        p = a + b\n",
    "        print(p)\n",
    "        break\n",
    "        \n",
    "    elif num == 2:\n",
    "        a = int(input())\n",
    "        b = int(input())\n",
    "        p = a - b\n",
    "        print(p)\n",
    "        break\n",
    "        \n",
    "    elif num == 3:\n",
    "        a = int(input())\n",
    "        b = int(input())\n",
    "        p = a * b\n",
    "        print(p)\n",
    "        break\n",
    "     \n",
    "    elif num == 4:\n",
    "        a = int(input())\n",
    "        b = int(input())\n",
    "        p = a // b\n",
    "        print(p)\n",
    "        break\n",
    "    elif num == 5:\n",
    "        a = int(input())\n",
    "        b = int(input())\n",
    "        p = a % b\n",
    "        print(p)\n",
    "        break\n",
    "    else:\n",
    "        print(\"Invalid Syntax\")\n",
    "    \n",
    " \n",
    "    \n",
    "\n",
    "\n",
    "\n",
    "\n"
   ]
  },
  {
   "cell_type": "code",
   "execution_count": 10,
   "id": "02911b74",
   "metadata": {},
   "outputs": [
    {
     "name": "stdout",
     "output_type": "stream",
     "text": [
      "Select Operators\n",
      "1.add\n",
      "2.subtract\n",
      "3.multiply\n",
      "4.Divide\n",
      "5.modulo\n",
      "1\n",
      "34\n",
      "4\n",
      "4\n",
      "Let's do next calculation? (yes/no): no\n"
     ]
    }
   ],
   "source": [
    "\n",
    "\n",
    "print(\"Select Operators\")\n",
    "print(\"1.add\")\n",
    "print(\"2.subtract\")\n",
    "print(\"3.multiply\")\n",
    "print(\"4.Divide\")\n",
    "print(\"5.modulo\")\n",
    "\n",
    "while True:\n",
    "    c = int(input())\n",
    "       \n",
    "    if c == 1:\n",
    "        a = int(input())\n",
    "        b = int(input())\n",
    "        p = a + b\n",
    "        print(b)\n",
    "        \n",
    "    elif c == 2:\n",
    "        a = int(input())\n",
    "        b = int(input())\n",
    "        p = a - b\n",
    "        print(p)\n",
    "        \n",
    "    elif c == 3:\n",
    "        a = int(input())\n",
    "        b = int(input())\n",
    "        p = a * b\n",
    "        print(p)\n",
    "        \n",
    "    elif c == 4:\n",
    "        a = int(input())\n",
    "        b = int(input())\n",
    "        p = a // b\n",
    "        print(p)\n",
    "        \n",
    "    elif c == 5:\n",
    "        a = int(input())\n",
    "        b = int(input())\n",
    "        p = a % b\n",
    "        print(p)\n",
    "        \n",
    "    next_calculation = input(\"Let's do next calculation? (yes/no): \")   \n",
    "    if next_calculation == \"no\":\n",
    "            break\n",
    "    else:\n",
    "        print(\"Invalid syntax\")\n",
    "        break"
   ]
  },
  {
   "cell_type": "code",
   "execution_count": 11,
   "id": "aede8c1f",
   "metadata": {},
   "outputs": [
    {
     "name": "stdout",
     "output_type": "stream",
     "text": [
      "23\n",
      "32\n"
     ]
    }
   ],
   "source": [
    "#Reverse of a number\n",
    "\"\"\"\n",
    "Write a program to generate the reverse of a given number N. Print the corresponding reverse number.\n",
    "Note : If a number has trailing zeros, then its reverse will not include them. \n",
    "For e.g., reverse of 10400 will be 401 instead of 00401.\n",
    "\"\"\"\n",
    "#Input format : Integer N\n",
    "#Output format : Corresponding reverse number\n",
    " \n",
    "n = int(input())\n",
    "rev = 0\n",
    "while n > 0:\n",
    "    l = n % 10 \n",
    "    n = n // 10\n",
    "    rev = rev * 10 + l\n",
    "print(rev)"
   ]
  },
  {
   "cell_type": "code",
   "execution_count": 12,
   "id": "950070e3",
   "metadata": {},
   "outputs": [
    {
     "name": "stdout",
     "output_type": "stream",
     "text": [
      "34\n",
      "False\n"
     ]
    }
   ],
   "source": [
    "#Sum of even & odd\n",
    "\"\"\"\n",
    "Write a program to input an integer N and print the sum of all its even digits and sum of all its odd digits separately.\n",
    "Digits mean numbers, not the places!\n",
    "That is, if the given integer is \"13245\", even digits are 2 & 4 and odd digits are 1, 3 & 5.\n",
    "\"\"\"\n",
    "\n",
    "n = int(input())\n",
    "mean = n\n",
    "rev = 0\n",
    "while n > 0:\n",
    "    l = n % 10\n",
    "    n = n // 10\n",
    "    rev = rev * 10 + l\n",
    "if mean == rev  :\n",
    "    print(\"True\")\n",
    "else:\n",
    "    print(\"False\")"
   ]
  },
  {
   "cell_type": "code",
   "execution_count": 13,
   "id": "2637db23",
   "metadata": {},
   "outputs": [
    {
     "name": "stdout",
     "output_type": "stream",
     "text": [
      "56\n",
      "False\n"
     ]
    }
   ],
   "source": [
    "#Sum of even & odd\n",
    "\"\"\"\n",
    "Write a program to input an integer N and print the sum of all its even digits and sum of all its odd digits separately.\n",
    "Digits mean numbers, not the places!\n",
    "That is, if the given integer is \"13245\", even digits are 2 & 4 and odd digits are 1, 3 & 5.\n",
    "\"\"\"\n",
    "\n",
    "n = int(input())\n",
    "mean = n\n",
    "rev = 0\n",
    "while n> 0:\n",
    "    l = n % 10\n",
    "    n = n // 10\n",
    "    rev = rev * 10 + 1\n",
    "if mean == rev:\n",
    "    print(\"True\")\n",
    "else :\n",
    "    print(\"False\")"
   ]
  },
  {
   "cell_type": "code",
   "execution_count": 14,
   "id": "10d804f7",
   "metadata": {},
   "outputs": [
    {
     "name": "stdout",
     "output_type": "stream",
     "text": [
      "4444\n",
      "4444\n",
      "4444\n",
      "4444\n"
     ]
    }
   ],
   "source": [
    "for i in range(4):\n",
    "    for j in range(4):\n",
    "        print(\"4\" , end = \"\")\n",
    "    print()"
   ]
  },
  {
   "cell_type": "code",
   "execution_count": 15,
   "id": "8cda9b7a",
   "metadata": {},
   "outputs": [
    {
     "name": "stdout",
     "output_type": "stream",
     "text": [
      "7777777\n",
      "7777777\n",
      "7777777\n",
      "7777777\n",
      "7777777\n",
      "7777777\n",
      "7777777\n"
     ]
    }
   ],
   "source": [
    "for i in range(7):\n",
    "    for j in range(7):\n",
    "        print(\"7\", end = \"\")\n",
    "    print()    "
   ]
  },
  {
   "cell_type": "code",
   "execution_count": 16,
   "id": "2782b73c",
   "metadata": {},
   "outputs": [
    {
     "name": "stdout",
     "output_type": "stream",
     "text": [
      "5\n",
      "55555\n",
      "55555\n",
      "55555\n",
      "55555\n",
      "55555\n"
     ]
    }
   ],
   "source": [
    "n = int(input())\n",
    "i = 1\n",
    "while i <= n:\n",
    "    j = 1\n",
    "    while j <= n:\n",
    "        print(n , end = \"\")\n",
    "        j += 1\n",
    "    print()\n",
    "    i += 1\n",
    "    "
   ]
  },
  {
   "cell_type": "code",
   "execution_count": 17,
   "id": "640503a1",
   "metadata": {},
   "outputs": [
    {
     "name": "stdout",
     "output_type": "stream",
     "text": [
      "5\n",
      "*\n",
      "**\n",
      "***\n",
      "****\n",
      "*****\n"
     ]
    }
   ],
   "source": [
    "n = int(input())\n",
    "i = 1\n",
    "while i <= n :\n",
    "    j = 1\n",
    "    while j <= i:\n",
    "        print(\"*\" , end = \"\")\n",
    "        j = j + 1\n",
    "    print()\n",
    "    i = i +1"
   ]
  },
  {
   "cell_type": "code",
   "execution_count": 18,
   "id": "44e96e6d",
   "metadata": {},
   "outputs": [
    {
     "name": "stdout",
     "output_type": "stream",
     "text": [
      "6\n",
      "#\n",
      "##\n",
      "###\n",
      "####\n",
      "#####\n",
      "######\n"
     ]
    }
   ],
   "source": [
    "n  = int(input())\n",
    "i = 1\n",
    "while i <= n:\n",
    "    j = 1\n",
    "    while j <= i:\n",
    "        print(\"#\", end = \"\")\n",
    "        j = j +1\n",
    "    print()\n",
    "    i = i + 1"
   ]
  },
  {
   "cell_type": "code",
   "execution_count": 19,
   "id": "c1431d32",
   "metadata": {},
   "outputs": [
    {
     "name": "stdout",
     "output_type": "stream",
     "text": [
      "6\n",
      "1\n",
      "22\n",
      "333\n",
      "4444\n",
      "55555\n",
      "666666\n"
     ]
    }
   ],
   "source": [
    "n = int(input())\n",
    "i = 1\n",
    "while i <= n:\n",
    "    j = 1\n",
    "    while j <= i:\n",
    "        print(i, end = \"\")\n",
    "        j += 1\n",
    "    print()\n",
    "    i += 1\n",
    "        "
   ]
  },
  {
   "cell_type": "code",
   "execution_count": 20,
   "id": "34536dfa",
   "metadata": {},
   "outputs": [
    {
     "name": "stdout",
     "output_type": "stream",
     "text": [
      "5\n",
      "1\n",
      "21\n",
      "321\n",
      "4321\n",
      "54321\n"
     ]
    }
   ],
   "source": [
    "#Reverse Number Pattern\n",
    "\n",
    "n = int(input())\n",
    "i = 1\n",
    "while i <= n:\n",
    "    j = 1\n",
    "    while j <= i:\n",
    "        print(i - j +1, end = \"\")\n",
    "        j += 1\n",
    "    print()\n",
    "    i += 1"
   ]
  },
  {
   "cell_type": "code",
   "execution_count": 21,
   "id": "19894481",
   "metadata": {},
   "outputs": [
    {
     "name": "stdout",
     "output_type": "stream",
     "text": [
      "7\n",
      "A\n",
      "BC\n",
      "CDE\n",
      "DEFG\n",
      "EFGHI\n",
      "FGHIJK\n",
      "GHIJKLM\n"
     ]
    }
   ],
   "source": [
    "n = int(input())\n",
    "i = 1\n",
    "while i <= n:\n",
    "    j = 1\n",
    "    start = chr(ord(\"A\")+i-1)\n",
    "    while j <= i:\n",
    "        charP = chr(ord(start)+j-1)\n",
    "        print(charP, end = \"\")\n",
    "        j += 1\n",
    "    print()\n",
    "    i += 1\n",
    "        "
   ]
  },
  {
   "cell_type": "code",
   "execution_count": 24,
   "id": "7ad7fea7",
   "metadata": {},
   "outputs": [
    {
     "name": "stdout",
     "output_type": "stream",
     "text": [
      "3\n",
      "CDE\n",
      "CDE\n",
      "CDE\n"
     ]
    }
   ],
   "source": [
    "n = int(input())\n",
    "i = 1\n",
    "start =chr(ord(\"A\")+ n - 1)\n",
    "\n",
    "while i <= n:\n",
    "    j = 1\n",
    "    while j <= n:\n",
    "        charP = chr(ord(start)+ j -1)\n",
    "        print(charP, end = \"\")\n",
    "        j += 1\n",
    "    print() \n",
    "    i += 1"
   ]
  },
  {
   "cell_type": "code",
   "execution_count": 25,
   "id": "d160fc1b",
   "metadata": {},
   "outputs": [
    {
     "name": "stdout",
     "output_type": "stream",
     "text": [
      "5\n",
      "E\n",
      "DE\n",
      "CDE\n",
      "BCDE\n",
      "ABCDE\n"
     ]
    }
   ],
   "source": [
    "n = int(input())\n",
    "i = 1\n",
    "start = chr(ord('A') + n -1)\n",
    "\n",
    "while i <= n:\n",
    "    j = 1\n",
    "    while j <= i:\n",
    "        charP = chr(ord(start)-i+j)\n",
    "        print(charP , end = \"\")\n",
    "        j = j + 1\n",
    "    print()\n",
    "    i = i + 1"
   ]
  },
  {
   "cell_type": "code",
   "execution_count": 26,
   "id": "5d004af1",
   "metadata": {},
   "outputs": [
    {
     "name": "stdout",
     "output_type": "stream",
     "text": [
      "5\n",
      "1\n",
      "11\n",
      "111\n",
      "1111\n",
      "11111\n"
     ]
    }
   ],
   "source": [
    "n = int(input())\n",
    "for i in range(n):\n",
    "    for j in range(i + 1):\n",
    "        print(\"1\", end = \"\")\n",
    "    print()    "
   ]
  },
  {
   "cell_type": "code",
   "execution_count": 27,
   "id": "42cdb2cf",
   "metadata": {},
   "outputs": [
    {
     "name": "stdout",
     "output_type": "stream",
     "text": [
      "6\n",
      "111111\n",
      "111111\n",
      "111111\n",
      "111111\n",
      "111111\n",
      "111111\n"
     ]
    }
   ],
   "source": [
    "n = int(input())\n",
    "i = 1\n",
    "while i <= n:\n",
    "    j = 1\n",
    "    while j <=n:\n",
    "        print(\"1\", end = \"\")\n",
    "        j  +=1\n",
    "    print()\n",
    "    i += 1"
   ]
  },
  {
   "cell_type": "code",
   "execution_count": 28,
   "id": "5e8207e5",
   "metadata": {},
   "outputs": [
    {
     "name": "stdout",
     "output_type": "stream",
     "text": [
      "5\n",
      "1\n",
      "11\n",
      "111\n",
      "1111\n",
      "11111\n"
     ]
    }
   ],
   "source": [
    "n = int(input())\n",
    "i = 1\n",
    "while i <= n:\n",
    "    j = 1\n",
    "    while j<= i:\n",
    "        print(\"1\", end = \"\")\n",
    "        j += 1\n",
    "    print()\n",
    "    i += 1"
   ]
  }
 ],
 "metadata": {
  "kernelspec": {
   "display_name": "Python 3 (ipykernel)",
   "language": "python",
   "name": "python3"
  },
  "language_info": {
   "codemirror_mode": {
    "name": "ipython",
    "version": 3
   },
   "file_extension": ".py",
   "mimetype": "text/x-python",
   "name": "python",
   "nbconvert_exporter": "python",
   "pygments_lexer": "ipython3",
   "version": "3.9.7"
  }
 },
 "nbformat": 4,
 "nbformat_minor": 5
}

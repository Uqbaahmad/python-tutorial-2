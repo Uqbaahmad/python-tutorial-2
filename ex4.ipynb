{
 "cells": [
  {
   "cell_type": "code",
   "execution_count": 1,
   "metadata": {},
   "outputs": [],
   "source": [
    "my_name = \"Uqba Ahmad\"\n",
    "my_age = 22                \n",
    "my_height = 162.56           # in cm\n",
    "my_weight = 51               # in kg\n",
    "my_eyes = \"Black\"\n",
    "my_teeth = \"White\"\n",
    "my_hair = \"Dark Brown\""
   ]
  },
  {
   "cell_type": "code",
   "execution_count": 2,
   "metadata": {},
   "outputs": [
    {
     "name": "stdout",
     "output_type": "stream",
     "text": [
      "Let's talk about Uqba Ahmad.\n"
     ]
    }
   ],
   "source": [
    "print(f\"Let's talk about {my_name}.\")"
   ]
  },
  {
   "cell_type": "code",
   "execution_count": 4,
   "metadata": {},
   "outputs": [
    {
     "name": "stdout",
     "output_type": "stream",
     "text": [
      "She's 162.56 cm tall\n"
     ]
    }
   ],
   "source": [
    "print(f\"She's {my_height} cm tall\")"
   ]
  },
  {
   "cell_type": "code",
   "execution_count": 6,
   "metadata": {},
   "outputs": [
    {
     "name": "stdout",
     "output_type": "stream",
     "text": [
      " Shes's 51 kg heavy\n",
      "Actually that's not too heavy\n"
     ]
    }
   ],
   "source": [
    "print(f\" Shes's {my_weight} kg heavy\")\n",
    "print(\"Actually that's not too heavy\")"
   ]
  },
  {
   "cell_type": "code",
   "execution_count": 7,
   "metadata": {},
   "outputs": [
    {
     "name": "stdout",
     "output_type": "stream",
     "text": [
      "She's got Black eyes and Dark Brown hair.\n"
     ]
    }
   ],
   "source": [
    "print(f\"She's got {my_eyes} eyes and {my_hair} hair.\" )"
   ]
  },
  {
   "cell_type": "code",
   "execution_count": 8,
   "metadata": {},
   "outputs": [
    {
     "name": "stdout",
     "output_type": "stream",
     "text": [
      "Her teeth are usually White depending on the Ice Cream\n"
     ]
    }
   ],
   "source": [
    "print(f\"Her teeth are usually {my_teeth} depending on the Ice Cream\")"
   ]
  },
  {
   "cell_type": "code",
   "execution_count": 10,
   "metadata": {},
   "outputs": [
    {
     "name": "stdout",
     "output_type": "stream",
     "text": [
      "If I add 22, 162.56, and 51 I got 235.56.\n"
     ]
    }
   ],
   "source": [
    "# This line is tricky , try to get it exactly right\n",
    "total = my_age + my_height + my_weight\n",
    "print(f\"If I add {my_age}, {my_height}, and {my_weight} I got {total}.\")"
   ]
  },
  {
   "cell_type": "code",
   "execution_count": null,
   "metadata": {},
   "outputs": [],
   "source": []
  }
 ],
 "metadata": {
  "interpreter": {
   "hash": "5ae58900cfbb8c43ab3495913814b7cf26024f51651a94ce8bf64d6111688e8d"
  },
  "kernelspec": {
   "display_name": "Python 3.9.7 ('base')",
   "language": "python",
   "name": "python3"
  },
  "language_info": {
   "codemirror_mode": {
    "name": "ipython",
    "version": 3
   },
   "file_extension": ".py",
   "mimetype": "text/x-python",
   "name": "python",
   "nbconvert_exporter": "python",
   "pygments_lexer": "ipython3",
   "version": "3.9.7"
  },
  "orig_nbformat": 4
 },
 "nbformat": 4,
 "nbformat_minor": 2
}
